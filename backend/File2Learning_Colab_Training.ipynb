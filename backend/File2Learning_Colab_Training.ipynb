{
  "cells": [
    {
      "cell_type": "markdown",
      "metadata": {},
      "source": [
        "# 🎓 File2Learning - AI Model Training on Google Colab\n",
        "\n",
        "## 📚 Difficulty Classifier Training Pipeline\n",
        "\n",
        "**Model**: DistilBERT-based Text Difficulty Classifier (A1-C2 CEFR levels)\n",
        "\n",
        "**GPU**: Tesla T4 (16GB VRAM) - Miễn phí trên Google Colab\n",
        "\n",
        "**Training Time**: ~8-12 phút\n",
        "\n",
        "---\n",
        "\n",
        "### 🚀 Quick Start Guide:\n",
        "1. **Runtime** → **Change runtime type** → **GPU** (T4 hoặc V100)\n",
        "2. **Run All** (Runtime → Run all) hoặc chạy từng cell\n",
        "3. Đợi training hoàn thành (~10 phút)\n",
        "4. Download model về local\n",
        "\n",
        "---\n"
      ]
    },
    {
      "cell_type": "markdown",
      "metadata": {},
      "source": [
        "## 🔧 Step 1: Setup Environment & GPU Check\n"
      ]
    },
    {
      "cell_type": "code",
      "execution_count": null,
      "metadata": {},
      "outputs": [],
      "source": [
        "# Check GPU availability\n",
        "import torch\n",
        "import os\n",
        "\n",
        "print(\"=\"*70)\n",
        "print(\"🔍 GPU Information\")\n",
        "print(\"=\"*70)\n",
        "\n",
        "if torch.cuda.is_available():\n",
        "    print(f\"✅ GPU Available: {torch.cuda.get_device_name(0)}\")\n",
        "    print(f\"📊 GPU Memory: {torch.cuda.get_device_properties(0).total_memory / 1024**3:.2f} GB\")\n",
        "    print(f\"🔢 CUDA Version: {torch.version.cuda}\")\n",
        "    print(f\"🐍 PyTorch Version: {torch.__version__}\")\n",
        "else:\n",
        "    print(\"❌ GPU NOT AVAILABLE!\")\n",
        "    print(\"⚠️  Go to Runtime → Change runtime type → GPU\")\n",
        "\n",
        "print(\"=\"*70)\n"
      ]
    },
    {
      "cell_type": "markdown",
      "metadata": {},
      "source": [
        "## 💾 Step 2: Mount Google Drive (Optional)\n",
        "\n",
        "**Nếu bạn muốn save model vào Google Drive**, uncomment và chạy cell này:\n"
      ]
    },
    {
      "cell_type": "code",
      "execution_count": null,
      "metadata": {},
      "outputs": [],
      "source": [
        "# from google.colab import drive\n",
        "# drive.mount('/content/drive')\n",
        "\n",
        "# # Create output directory in Drive\n",
        "# DRIVE_OUTPUT_DIR = '/content/drive/MyDrive/File2Learning_Models'\n",
        "# os.makedirs(DRIVE_OUTPUT_DIR, exist_ok=True)\n",
        "# print(f\"✅ Google Drive mounted! Models will be saved to: {DRIVE_OUTPUT_DIR}\")\n"
      ]
    },
    {
      "cell_type": "markdown",
      "metadata": {},
      "source": [
        "## 📁 Step 3: Upload Project Files\n",
        "\n",
        "**Chọn 1 trong 2 options:**\n",
        "\n",
        "### **Option A: Upload từ local** (Recommended)\n",
        "1. Zip toàn bộ folder `backend/` thành `backend.zip`\n",
        "2. Upload file zip và extract\n"
      ]
    },
    {
      "cell_type": "code",
      "execution_count": null,
      "metadata": {},
      "outputs": [],
      "source": [
        "# Option A: Upload ZIP file\n",
        "from google.colab import files\n",
        "import zipfile\n",
        "\n",
        "print(\"📤 Upload backend.zip file...\")\n",
        "uploaded = files.upload()\n",
        "\n",
        "# Extract\n",
        "for filename in uploaded.keys():\n",
        "    if filename.endswith('.zip'):\n",
        "        print(f\"📦 Extracting {filename}...\")\n",
        "        with zipfile.ZipFile(filename, 'r') as zip_ref:\n",
        "            zip_ref.extractall('/content/')\n",
        "        print(\"✅ Extraction complete!\")\n",
        "\n",
        "# Change to backend directory\n",
        "%cd /content/backend\n",
        "!pwd\n",
        "!ls -la\n"
      ]
    },
    {
      "cell_type": "markdown",
      "metadata": {},
      "source": [
        "### **Option B: Clone từ GitHub** (Nếu bạn đã push code lên GitHub)\n"
      ]
    },
    {
      "cell_type": "code",
      "execution_count": null,
      "metadata": {},
      "outputs": [],
      "source": [
        "# # Option B: Clone from GitHub\n",
        "# !git clone https://github.com/YOUR_USERNAME/File2Learning.git\n",
        "# %cd File2Learning/backend\n",
        "# !pwd\n",
        "# !ls -la\n"
      ]
    },
    {
      "cell_type": "markdown",
      "metadata": {},
      "source": [
        "## 📦 Step 4: Install Dependencies\n",
        "\n",
        "Install tất cả packages cần thiết cho AI training\n"
      ]
    },
    {
      "cell_type": "code",
      "execution_count": null,
      "metadata": {},
      "outputs": [],
      "source": [
        "print(\"📦 Installing AI dependencies...\")\n",
        "print(\"⏳ This may take 2-3 minutes...\\n\")\n",
        "\n",
        "# Install core packages\n",
        "!pip install -q torch torchvision torchaudio --index-url https://download.pytorch.org/whl/cu118\n",
        "!pip install -q transformers==4.36.0 tokenizers==0.15.0\n",
        "!pip install -q accelerate==0.25.0\n",
        "!pip install -q pandas numpy scikit-learn\n",
        "!pip install -q matplotlib seaborn plotly\n",
        "!pip install -q tqdm\n",
        "\n",
        "print(\"\\n✅ All dependencies installed!\")\n",
        "\n",
        "# Verify installation\n",
        "import transformers\n",
        "import torch\n",
        "print(f\"\\n📚 Transformers version: {transformers.__version__}\")\n",
        "print(f\"🔥 PyTorch version: {torch.__version__}\")\n",
        "print(f\"🎮 CUDA available: {torch.cuda.is_available()}\")\n"
      ]
    },
    {
      "cell_type": "markdown",
      "metadata": {},
      "source": [
        "## 🔍 Step 5: Verify Project Structure\n",
        "\n",
        "Kiểm tra xem tất cả files cần thiết đã có chưa\n"
      ]
    },
    {
      "cell_type": "code",
      "execution_count": null,
      "metadata": {},
      "outputs": [],
      "source": [
        "import os\n",
        "from pathlib import Path\n",
        "\n",
        "print(\"🔍 Verifying project structure...\\n\")\n",
        "\n",
        "required_files = [\n",
        "    'train_ai_model.py',\n",
        "    'app/ai/models/difficulty_classifier.py',\n",
        "    'app/ai/training/train_difficulty.py',\n",
        "    'app/ai/datasets/collect_data.py',\n",
        "    'app/ai/utils/data_preprocessing.py',\n",
        "]\n",
        "\n",
        "all_good = True\n",
        "for file in required_files:\n",
        "    if Path(file).exists():\n",
        "        print(f\"✅ {file}\")\n",
        "    else:\n",
        "        print(f\"❌ {file} - MISSING!\")\n",
        "        all_good = False\n",
        "\n",
        "if all_good:\n",
        "    print(\"\\n🎉 All required files present!\")\n",
        "else:\n",
        "    print(\"\\n⚠️  Some files are missing. Please check your upload.\")\n",
        "\n",
        "# Check if dataset exists\n",
        "dataset_path = Path('app/ai/datasets/raw_dataset.json')\n",
        "if dataset_path.exists():\n",
        "    import json\n",
        "    with open(dataset_path) as f:\n",
        "        data = json.load(f)\n",
        "    print(f\"\\n📊 Dataset found: {data.get('num_samples', 0)} samples\")\n",
        "else:\n",
        "    print(\"\\n⚠️  Dataset not found. Will generate synthetic dataset.\")\n"
      ]
    },
    {
      "cell_type": "markdown",
      "metadata": {},
      "source": [
        "## ⚙️ Step 6: Training Configuration\n",
        "\n",
        "Cấu hình tối ưu cho GPU T4 (16GB VRAM)\n"
      ]
    },
    {
      "cell_type": "code",
      "execution_count": null,
      "metadata": {},
      "outputs": [],
      "source": [
        "# Training configuration for Google Colab T4\n",
        "TRAINING_CONFIG = {\n",
        "    'batch_size': 16,        # Tăng từ 8 (local) lên 16 vì T4 có 16GB VRAM\n",
        "    'num_epochs': 3,         # Giữ nguyên\n",
        "    'learning_rate': 2e-5,   # Giữ nguyên\n",
        "    'max_length': 512,       # Giữ nguyên\n",
        "    'warmup_steps': 500,     # Giữ nguyên\n",
        "    'device': 'cuda' if torch.cuda.is_available() else 'cpu'\n",
        "}\n",
        "\n",
        "print(\"⚙️ Training Configuration for Google Colab\")\n",
        "print(\"=\"*70)\n",
        "for key, value in TRAINING_CONFIG.items():\n",
        "    print(f\"  {key:20s}: {value}\")\n",
        "print(\"=\"*70)\n"
      ]
    },
    {
      "cell_type": "markdown",
      "metadata": {},
      "source": [
        "## 📊 Step 7: Collect Training Data\n",
        "\n",
        "Generate synthetic dataset (hoặc sử dụng dataset có sẵn)\n"
      ]
    },
    {
      "cell_type": "code",
      "execution_count": null,
      "metadata": {},
      "outputs": [],
      "source": [
        "print(\"📊 Step 7: Collecting training data...\")\n",
        "print(\"=\"*70)\n",
        "\n",
        "!python -m app.ai.datasets.collect_data\n",
        "\n",
        "print(\"\\n✅ Data collection complete!\")\n"
      ]
    },
    {
      "cell_type": "markdown",
      "metadata": {},
      "source": [
        "## 🚀 Step 8: Train the Model!\n",
        "\n",
        "**Main training process** - Đây là bước quan trọng nhất!\n",
        "\n",
        "Expected time: **~8-12 phút** trên T4 GPU\n",
        "\n",
        "### What happens:\n",
        "1. Load dataset và preprocessing\n",
        "2. Initialize DistilBERT model\n",
        "3. Train for 3 epochs\n",
        "4. Save best model dựa trên validation F1 score\n",
        "5. Generate training curves và confusion matrix\n"
      ]
    },
    {
      "cell_type": "code",
      "execution_count": null,
      "metadata": {},
      "outputs": [],
      "source": [
        "import time\n",
        "\n",
        "print(\"🚀 Starting AI Model Training...\")\n",
        "print(\"=\"*70)\n",
        "print(\"⏱️  Estimated time: 8-12 minutes on T4 GPU\")\n",
        "print(\"📊 You'll see progress bars for each epoch\")\n",
        "print(\"=\"*70)\n",
        "print()\n",
        "\n",
        "start_time = time.time()\n",
        "\n",
        "# Run training\n",
        "!python -m app.ai.training.train_difficulty\n",
        "\n",
        "end_time = time.time()\n",
        "duration = end_time - start_time\n",
        "\n",
        "print(\"\\n\" + \"=\"*70)\n",
        "print(f\"✅ Training Complete!\")\n",
        "print(f\"⏱️  Total time: {duration/60:.2f} minutes ({duration:.0f} seconds)\")\n",
        "print(\"=\"*70)\n"
      ]
    },
    {
      "cell_type": "markdown",
      "metadata": {},
      "source": [
        "## 📈 Step 9: View Training Results\n",
        "\n",
        "Visualize training curves và confusion matrix\n"
      ]
    },
    {
      "cell_type": "code",
      "execution_count": null,
      "metadata": {},
      "outputs": [],
      "source": [
        "from IPython.display import Image, display\n",
        "import os\n",
        "\n",
        "print(\"📈 Training Results Visualization\")\n",
        "print(\"=\"*70)\n",
        "\n",
        "# Display training curves\n",
        "curves_path = 'models/difficulty_classifier/training_curves.png'\n",
        "if os.path.exists(curves_path):\n",
        "    print(\"\\n📊 Training Curves:\")\n",
        "    display(Image(filename=curves_path))\n",
        "else:\n",
        "    print(f\"⚠️  Training curves not found at {curves_path}\")\n",
        "\n",
        "# Display confusion matrix\n",
        "cm_path = 'models/difficulty_classifier/confusion_matrix.png'\n",
        "if os.path.exists(cm_path):\n",
        "    print(\"\\n🎯 Confusion Matrix:\")\n",
        "    display(Image(filename=cm_path))\n",
        "else:\n",
        "    print(f\"⚠️  Confusion matrix not found at {cm_path}\")\n",
        "\n",
        "# List all generated files\n",
        "print(\"\\n📂 Generated Files:\")\n",
        "!ls -lh models/difficulty_classifier/\n"
      ]
    },
    {
      "cell_type": "markdown",
      "metadata": {},
      "source": [
        "## 🧪 Step 10: Test Model Inference\n",
        "\n",
        "Test model với một số sample texts\n"
      ]
    },
    {
      "cell_type": "code",
      "execution_count": null,
      "metadata": {},
      "outputs": [],
      "source": [
        "import torch\n",
        "from transformers import DistilBertTokenizer\n",
        "import sys\n",
        "from pathlib import Path\n",
        "\n",
        "# Import model class\n",
        "sys.path.append(str(Path.cwd()))\n",
        "from app.ai.models.difficulty_classifier import DifficultyClassifier\n",
        "\n",
        "print(\"🧪 Testing Model Inference\")\n",
        "print(\"=\"*70)\n",
        "\n",
        "# Load model\n",
        "device = 'cuda' if torch.cuda.is_available() else 'cpu'\n",
        "model_path = 'models/difficulty_classifier/best_model.pt'\n",
        "\n",
        "print(f\"📥 Loading model from {model_path}...\")\n",
        "model = DifficultyClassifier.load_model(model_path, device=device)\n",
        "tokenizer = DistilBertTokenizer.from_pretrained('distilbert-base-uncased')\n",
        "\n",
        "print(\"✅ Model loaded!\\n\")\n",
        "\n",
        "# Test samples\n",
        "test_texts = [\n",
        "    \"I have a cat. It is black.\",  # A1\n",
        "    \"Last week I went to the park. The weather was nice.\",  # A2\n",
        "    \"Learning a new language requires dedication and consistent practice.\",  # B1\n",
        "    \"The implementation of new technologies has fundamentally transformed businesses.\",  # B2\n",
        "    \"The paradigmatic shift in environmental policy necessitates comprehensive reevaluation.\",  # C1\n",
        "    \"The epistemological implications fundamentally challenge deterministic paradigms.\",  # C2\n",
        "]\n",
        "\n",
        "print(\"🔍 Testing sample texts:\\n\")\n",
        "\n",
        "for i, text in enumerate(test_texts, 1):\n",
        "    # Tokenize\n",
        "    encoding = tokenizer(\n",
        "        text,\n",
        "        add_special_tokens=True,\n",
        "        max_length=512,\n",
        "        padding='max_length',\n",
        "        truncation=True,\n",
        "        return_tensors='pt'\n",
        "    )\n",
        "    \n",
        "    input_ids = encoding['input_ids'].to(device)\n",
        "    attention_mask = encoding['attention_mask'].to(device)\n",
        "    \n",
        "    # Predict\n",
        "    result = model.predict_text(input_ids, attention_mask)\n",
        "    \n",
        "    print(f\"Text {i}: {text[:60]}...\")\n",
        "    print(f\"  ➡️  Predicted: {result['level']} (Confidence: {result['confidence']:.2%})\")\n",
        "    print(f\"  📊 Top 3: {', '.join([f'{k}:{v:.1%}' for k, v in sorted(result['probabilities'].items(), key=lambda x: x[1], reverse=True)[:3]])}\") \n",
        "    print()\n",
        "\n",
        "print(\"=\"*70)\n",
        "print(\"✅ Inference test complete!\")\n"
      ]
    },
    {
      "cell_type": "markdown",
      "metadata": {},
      "source": [
        "## 💾 Step 11: Download Trained Model\n",
        "\n",
        "Download model và results về máy local\n"
      ]
    },
    {
      "cell_type": "code",
      "execution_count": null,
      "metadata": {},
      "outputs": [],
      "source": [
        "from google.colab import files\n",
        "import shutil\n",
        "import os\n",
        "\n",
        "print(\"💾 Preparing files for download...\")\n",
        "print(\"=\"*70)\n",
        "\n",
        "# Create zip file with all results\n",
        "output_dir = 'models/difficulty_classifier'\n",
        "zip_filename = 'file2learning_trained_model'\n",
        "\n",
        "# Zip the model directory\n",
        "shutil.make_archive(zip_filename, 'zip', output_dir)\n",
        "\n",
        "zip_file = f\"{zip_filename}.zip\"\n",
        "print(f\"\\n📦 Created {zip_file}\")\n",
        "print(\"\\nContents:\")\n",
        "!unzip -l {zip_file}\n",
        "\n",
        "print(\"\\n⬇️  Downloading...\")\n",
        "files.download(zip_file)\n",
        "\n",
        "print(\"\\n✅ Download complete!\")\n",
        "print(\"\\n📋 Next steps:\")\n",
        "print(\"  1. Extract the zip file\")\n",
        "print(\"  2. Copy contents to your local: backend/models/difficulty_classifier/\")\n",
        "print(\"  3. Test model trên local project\")\n",
        "print(\"=\"*70)\n"
      ]
    },
    {
      "cell_type": "markdown",
      "metadata": {},
      "source": [
        "---\n",
        "\n",
        "## 🎉 Training Complete!\n",
        "\n",
        "### 📊 Summary\n",
        "\n",
        "Bạn đã successfully train **Difficulty Classifier** với:\n",
        "- ✅ Model: DistilBERT (66M parameters)\n",
        "- ✅ Task: 6-class classification (A1, A2, B1, B2, C1, C2)\n",
        "- ✅ GPU: Google Colab T4 (16GB VRAM)\n",
        "- ✅ Dataset: Synthetic + OneStop English Corpus\n",
        "\n",
        "### 📂 Output Files\n",
        "- `best_model.pt` - Trained model weights\n",
        "- `training_curves.png` - Loss/Accuracy/F1 curves\n",
        "- `confusion_matrix.png` - Model performance visualization\n",
        "- Checkpoint files for each epoch\n",
        "\n",
        "### 🔄 Next Steps\n",
        "1. Download model về local project\n",
        "2. Test model trong application\n",
        "3. Integrate vào document processing pipeline\n",
        "4. Fine-tune nếu cần với real user data\n",
        "\n",
        "### 💡 Tips\n",
        "- Nếu muốn train lại với parameters khác, chỉnh config ở **Step 6**\n",
        "- Nếu muốn train với dataset lớn hơn, add more data vào `collect_data.py`\n",
        "- Model có thể improve over time khi có real user data\n",
        "\n",
        "---\n",
        "\n",
        "### 📞 Troubleshooting\n",
        "\n",
        "**Common Issues:**\n",
        "\n",
        "1. **GPU Not Available** → Runtime → Change runtime type → GPU\n",
        "2. **Out of Memory** → Giảm batch_size từ 16 xuống 8\n",
        "3. **Files Not Found** → Kiểm tra lại upload ở Step 3\n",
        "4. **Import Errors** → Re-run Step 4 (Install dependencies)\n",
        "\n",
        "---\n",
        "\n",
        "**Happy Training! 🚀**\n"
      ]
    }
  ],
  "metadata": {
    "language_info": {
      "name": "python"
    }
  },
  "nbformat": 4,
  "nbformat_minor": 2
}
